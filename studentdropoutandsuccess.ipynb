{
  "nbformat": 4,
  "nbformat_minor": 0,
  "metadata": {
    "colab": {
      "provenance": []
    },
    "kernelspec": {
      "name": "python3",
      "display_name": "Python 3"
    },
    "language_info": {
      "name": "python"
    }
  },
  "cells": [
    {
      "cell_type": "markdown",
      "source": [
        "# About Dataset\n",
        "Dataset Column Descriptions\n",
        "\n",
        "This dataset includes various features that were known at the time of student enrollment. Below is a description of each column in the dataset:\n",
        "\n",
        "\n",
        "**Marital Status:** The marital status of the student (e.g., single, married, divorced).\n",
        "\n",
        "**Application Mode:** Refers to the mode or type of application the student submitted to enroll in the course.\n",
        "\n",
        "**Application Order:** Indicates the order in which the student applied for the course. For example, whether it was the student’s first, second, or third choice.\n",
        "\n",
        "**Course:** The course or degree program the student is enrolled in (e.g., Computer Science, Engineering, etc.).\n",
        "\n",
        "**Daytime/Evening Attendance:** Specifies whether the student attends the course during the day or in the evening, representing their attendance schedule.\n",
        "\n",
        "**Previous Qualification:** The type of academic qualification the student had before enrolling in the course (e.g., high school diploma, vocational training).\n",
        "\n",
        "**Previous Qualification (Grade):** The final grade or score associated with the student's previous qualification.\n",
        "\n",
        "**Nationality:** The nationality of the student.\n",
        "\n",
        "**Mother's Qualification:** The highest academic qualification attained by the student's mother.\n",
        "\n",
        "**Father's Qualification:** The highest academic qualification attained by the student's father.\n",
        "\n",
        "These features represent important demographic, academic, and socio-economic factors, which are crucial for predicting a student's academic outcome.\n",
        "\n",
        "**Link to dataset:**\n",
        "\n",
        "https://www.kaggle.com/datasets/syedfaizanalii/predict-students-dropout-and-academic-success"
      ],
      "metadata": {
        "id": "OsgIGSWQHZx2"
      }
    },
    {
      "cell_type": "code",
      "execution_count": 1,
      "metadata": {
        "id": "mrgdKObnx2N9"
      },
      "outputs": [],
      "source": [
        "import pandas as pd\n",
        "import numpy as np\n",
        "from sklearn.preprocessing import StandardScaler, LabelEncoder\n",
        "from sklearn.model_selection import train_test_split, GridSearchCV\n",
        "from sklearn.svm import SVC\n",
        "from sklearn.linear_model import LogisticRegression\n",
        "\n",
        "# from scipy import interp\n",
        "from sklearn.linear_model import LinearRegression, LogisticRegression\n",
        "from sklearn.metrics import auc, confusion_matrix,  f1_score, precision_score, recall_score, roc_curve, accuracy_score\n",
        "from sklearn.model_selection import train_test_split\n",
        "from sklearn.preprocessing import StandardScaler\n",
        "\n",
        "import matplotlib.pyplot as plt\n"
      ]
    },
    {
      "cell_type": "code",
      "source": [
        "# df = pd.read_csv(\"Predict_Student_Dropout_and_Academic_Success.csv\")\n",
        "df = pd.read_csv(\"Predict_Student_Dropout_and_Academic_Success.csv\", sep=\";\")\n",
        "df = df.dropna()\n",
        "\n",
        "\n"
      ],
      "metadata": {
        "id": "2zEPZmoyyXzo"
      },
      "execution_count": 2,
      "outputs": []
    },
    {
      "cell_type": "markdown",
      "source": [
        "# SVM"
      ],
      "metadata": {
        "id": "1Pg4lFmuhhUC"
      }
    },
    {
      "cell_type": "code",
      "source": [
        "X = df.drop(df.columns[-1], axis=1)\n",
        "\n",
        "le = LabelEncoder()\n",
        "df[\"Target\"] = le.fit_transform(df[\"Target\"])\n",
        "y = df[\"Target\"]\n",
        "\n",
        "y.unique()\n",
        "\n",
        "X_train, X_test, y_train, y_test = train_test_split(X, y, train_size=0.3, random_state=32)\n",
        "\n",
        "scaler = StandardScaler()\n",
        "\n",
        "X_train = scaler.fit_transform(X_train)\n",
        "X_test = scaler.transform(X_test)\n",
        "\n",
        "param_grid_svm = {\n",
        "    # 'C': [0.1, 1, 10, 100],\n",
        "    'C': [0.1, 1],\n",
        "    # 'gamma': [1, 0.1, 0.01, 0.001],\n",
        "    'gamma': [1, 0.1],\n",
        "    'kernel': ['linear', 'rbf', 'poly', 'sigmoid'],\n",
        "    'class_weight': ['balanced']\n",
        "}\n",
        "\n",
        "# Hyper parameter optimization\n",
        "svm = GridSearchCV(estimator=SVC(), param_grid=param_grid_svm)\n",
        "\n",
        "svm.fit(X_train, y_train)\n",
        "\n",
        "y_pred_svm = svm.predict(X_test)\n",
        "\n",
        "\n",
        "print(\"SVM metrics\")\n",
        "print(\"Accuracy:\", accuracy_score(y_test, y_pred_svm))\n",
        "print(\"F1 score:\", f1_score(y_test, y_pred_svm, average=\"micro\"))\n",
        "print(\"Recall score:\", recall_score(y_test, y_pred_svm, average=\"micro\"))\n",
        "print(\"Precision score:\", precision_score(y_test, y_pred_svm, average=\"micro\"))\n",
        "print(\"___\")\n",
        "print(\"Best params:\")\n",
        "print([svm.best_params_])\n",
        "\n"
      ],
      "metadata": {
        "id": "09c-5qWRMuIT",
        "colab": {
          "base_uri": "https://localhost:8080/"
        },
        "outputId": "cb7ef498-d46c-4fb7-b3e6-7b461de843d8"
      },
      "execution_count": 6,
      "outputs": [
        {
          "output_type": "stream",
          "name": "stdout",
          "text": [
            "SVM metrics\n",
            "Accuracy: 0.7384565708750404\n",
            "F1 score: 0.7384565708750404\n",
            "Recall score: 0.7384565708750404\n",
            "Precision score: 0.7384565708750404\n",
            "___\n",
            "Best params:\n",
            "['C', 'class_weight', 'gamma', 'kernel']\n"
          ]
        }
      ]
    },
    {
      "cell_type": "markdown",
      "source": [
        "# Logistic regression"
      ],
      "metadata": {
        "id": "k7yxY4WuhjKK"
      }
    },
    {
      "cell_type": "code",
      "source": [
        "\n",
        "lr = LogisticRegression(max_iter = 1000)\n",
        "lr.fit(X_train, y_train)\n",
        "lr.score(X_train, y_train)\n",
        "\n",
        "scores = []\n",
        "C = [0.25, 0.5, 0.75, 1, 1.25, 1.5, 1.75, 2]\n",
        "\n",
        "for choice in C:\n",
        "  lr.set_params(C=choice)\n",
        "  lr.fit(X_train,y_train)\n",
        "  scores.append(lr.score(X_train, y_train))\n",
        "\n",
        "# print(max(scores))\n",
        "\n",
        "y_pred = lr.predict(X_test)\n",
        "\n",
        "\n",
        "\n"
      ],
      "metadata": {
        "id": "jiDjKfuolWuM"
      },
      "execution_count": null,
      "outputs": []
    },
    {
      "cell_type": "code",
      "source": [],
      "metadata": {
        "id": "LoOil32lzBYG"
      },
      "execution_count": null,
      "outputs": []
    }
  ]
}